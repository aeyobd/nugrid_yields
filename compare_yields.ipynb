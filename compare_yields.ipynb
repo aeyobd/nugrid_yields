{
 "cells": [
  {
   "cell_type": "code",
   "execution_count": null,
   "id": "0",
   "metadata": {},
   "outputs": [],
   "source": [
    "import pandas as pd\n",
    "import numpy as np\n",
    "import matplotlib.pyplot as plt"
   ]
  },
  {
   "cell_type": "code",
   "execution_count": null,
   "id": "93",
   "metadata": {},
   "outputs": [],
   "source": [
    "import molmass"
   ]
  },
  {
   "cell_type": "code",
   "execution_count": null,
   "id": "94",
   "metadata": {},
   "outputs": [],
   "source": [
    "@np.vectorize\n",
    "def atomic_number(ele):\n",
    "    if ele == \"Neutron\":\n",
    "        return 0\n",
    "    return molmass.ELEMENTS[ele].number"
   ]
  },
  {
   "cell_type": "code",
   "execution_count": null,
   "id": "a0b1b48c-6c5c-4afe-a4dc-bc06297e0c2d",
   "metadata": {},
   "outputs": [],
   "source": [
    "@np.vectorize\n",
    "def get_A(iso):\n",
    "    ele, A = iso.split(\"-\")\n",
    "    A = A.split(\"m\")[0]\n",
    "    \n",
    "    return np.int(A)"
   ]
  },
  {
   "cell_type": "code",
   "execution_count": null,
   "id": "b593bc1c-bcb4-49ad-8b15-2d1d7b11d5bd",
   "metadata": {},
   "outputs": [],
   "source": [
    "@np.vectorize\n",
    "def get_ele(iso):\n",
    "    ele, A = iso.split(\"-\")\n",
    "    return ele"
   ]
  },
  {
   "cell_type": "markdown",
   "id": "5",
   "metadata": {
    "jp-MarkdownHeadingCollapsed": true,
    "tags": []
   },
   "source": [
    "## P16"
   ]
  },
  {
   "cell_type": "markdown",
   "id": "6",
   "metadata": {},
   "source": [
    "Pignatari et al. (2016) reports yields in terms of over production factors (OP), defined as\n",
    "$$\n",
    "{\\rm OP} = \\frac{M_{\\rm ej, i}}{M_{\\rm ej} Z_{i}^0}\n",
    "$$\n",
    " i.e. the ratio between the mean ejected abundance composition and the initial composition of the star. \n",
    " Since we are interested in net fractional yields, we can calculate these from the overproduction factor as follows\n",
    " $$\n",
    " Y_{X} = Z_{\\rm ini} ({\\rm OP} - 1) \\frac{M_{\\rm ej}}{M_{\\rm ini}} = (Z_{\\rm ej} - Z_{\\rm ini}) \\frac{M_{\\rm ej}}{M_{\\rm ini}}\n",
    " $$.\n",
    "\n",
    "Or \n",
    "$$\n",
    "OP = 1 + \\frac{Y_X}{Z_{\\rm ini}} \\frac{M_{\\rm ini}}{M_{\\rm ej}}\n",
    "$$\n",
    " \n",
    "Thus from each nu-grid model, we need the OP factor, the initial and ejected mass, and the birth composition."
   ]
  },
  {
   "cell_type": "code",
   "execution_count": null,
   "id": "7",
   "metadata": {},
   "outputs": [],
   "source": [
    "molmass = pd.read_csv(datadir + \"nugrid/mesa_atomic_weights.txt\", sep=\"\\t\", comment = \"#\")\n",
    "molmass.element = molmass.element.str.title()\n",
    "molmass[\"atomic_number\"] = np.int64(np.arange(1, len(molmass)+1))\n",
    "\n",
    "molmass.set_index(\"element\", inplace=True)"
   ]
  },
  {
   "cell_type": "code",
   "execution_count": null,
   "id": "8",
   "metadata": {},
   "outputs": [],
   "source": [
    "solar_Z = pd.read_csv(datadir + \"nugrid/grevesse_noels_1993.txt\", comment=\"!\", sep=\"\\t\")\n",
    "solar_Z.element = solar_Z.element.str.strip()\n",
    "\n",
    "solar_Z.set_index(\"element\", inplace=True)"
   ]
  },
  {
   "cell_type": "code",
   "execution_count": null,
   "id": "9",
   "metadata": {},
   "outputs": [],
   "source": [
    "solar_Z[\"atomic_weight\"] = [molmass.atomic_weight[ele] for ele, r in solar_Z.iterrows()]"
   ]
  },
  {
   "cell_type": "code",
   "execution_count": null,
   "id": "10",
   "metadata": {},
   "outputs": [],
   "source": [
    "Y_H"
   ]
  },
  {
   "cell_type": "code",
   "execution_count": null,
   "id": "11",
   "metadata": {},
   "outputs": [],
   "source": [
    "Ysun = 0.2485\n",
    "Zsun = 0.0179\n",
    "\n",
    "Y_H = 1 - (Zsun + Ysun) / molmass.atomic_weight[\"H\"]\n",
    "print(Y_H)\n",
    "Y_i = Y_H * 10**(solar_Z.A - 12)\n",
    "solar_Z[\"Z\"] = Y_i * solar_Z.atomic_weight\n",
    "\n",
    "print(sum(solar_Z.Z[2:]) - Zsun)\n",
    "solar_Z"
   ]
  },
  {
   "cell_type": "code",
   "execution_count": null,
   "id": "12",
   "metadata": {},
   "outputs": [],
   "source": [
    "P16_stars = pd.read_csv(datadir + \"nugrid/p16_stars.tsv\", sep=\"\\s+\", comment=\"#\")\n",
    "P16_stars"
   ]
  },
  {
   "cell_type": "code",
   "execution_count": null,
   "id": "13",
   "metadata": {},
   "outputs": [],
   "source": [
    "P16_stars.set_index([\"mass\", \"Z\"], inplace=True)\n",
    "P16_stars"
   ]
  },
  {
   "cell_type": "code",
   "execution_count": null,
   "id": "14",
   "metadata": {},
   "outputs": [],
   "source": [
    "P16_ops_raw = pd.read_csv(datadir + \"nugrid/p16_yields.tsv\", sep=\"\\t\", comment=\"#\", skiprows=[42, 43])\n",
    "P16_ops_raw"
   ]
  },
  {
   "cell_type": "markdown",
   "id": "15",
   "metadata": {},
   "source": [
    "For P16, note that set 1.1 has Z=0.01, set 1.2 has Z=0.02."
   ]
  },
  {
   "cell_type": "code",
   "execution_count": null,
   "id": "16",
   "metadata": {},
   "outputs": [],
   "source": [
    "P16_ops_raw[\"Z\"] = np.where(P16_ops_raw.Set == 1.2, 0.02, 0.01)"
   ]
  },
  {
   "cell_type": "code",
   "execution_count": null,
   "id": "17",
   "metadata": {},
   "outputs": [],
   "source": [
    "P16_ops = P16_ops_raw.melt(id_vars=[\"Sp\", \"Z\"], value_vars=[\"OP1.65\", \"OP2\", \"OP3\", \"OP4\", \"OP5\",], var_name=\"model\", value_name=\"OP\")\n",
    "P16_ops"
   ]
  },
  {
   "cell_type": "code",
   "execution_count": null,
   "id": "18",
   "metadata": {},
   "outputs": [],
   "source": [
    "P16_ops[\"M\"] = P16_ops.model.str.extract(r\"(\\d?\\.?\\d+)\")\n",
    "P16_ops[\"M\"] = pd.to_numeric(P16_ops.M)\n",
    "P16_ops"
   ]
  },
  {
   "cell_type": "code",
   "execution_count": null,
   "id": "19",
   "metadata": {},
   "outputs": [],
   "source": [
    "P16 = P16_ops"
   ]
  },
  {
   "cell_type": "code",
   "execution_count": null,
   "id": "20",
   "metadata": {},
   "outputs": [],
   "source": [
    "m_rem = [P16_stars.loc[r.M, r.Z][0] for i, r in P16.iterrows()]"
   ]
  },
  {
   "cell_type": "code",
   "execution_count": null,
   "id": "21",
   "metadata": {},
   "outputs": [],
   "source": [
    "P16[\"Mrem\"] = m_rem"
   ]
  },
  {
   "cell_type": "code",
   "execution_count": null,
   "id": "22",
   "metadata": {},
   "outputs": [],
   "source": [
    "P16[\"element\"] = P16.Sp.str.strip()"
   ]
  },
  {
   "cell_type": "code",
   "execution_count": null,
   "id": "23",
   "metadata": {},
   "outputs": [],
   "source": [
    "solar_Z.index"
   ]
  },
  {
   "cell_type": "code",
   "execution_count": null,
   "id": "24",
   "metadata": {},
   "outputs": [],
   "source": [
    "P16[np.isin(P16.element, [\"Tc\", \"Pm\"])]"
   ]
  },
  {
   "cell_type": "code",
   "execution_count": null,
   "id": "25",
   "metadata": {},
   "outputs": [],
   "source": [
    "P16.drop(index=np.where(np.isin(P16.element, [\"Tc\", \"Pm\"]))[0], inplace=True)"
   ]
  },
  {
   "cell_type": "code",
   "execution_count": null,
   "id": "26",
   "metadata": {},
   "outputs": [],
   "source": [
    "Z0 = [solar_Z.loc[r.element].Z  for i, r in P16.iterrows()]"
   ]
  },
  {
   "cell_type": "code",
   "execution_count": null,
   "id": "27",
   "metadata": {},
   "outputs": [],
   "source": [
    "P16[\"Zini\"] = Z0 * P16.Z / 0.0179"
   ]
  },
  {
   "cell_type": "code",
   "execution_count": null,
   "id": "28",
   "metadata": {},
   "outputs": [],
   "source": [
    "P16"
   ]
  },
  {
   "cell_type": "code",
   "execution_count": null,
   "id": "29",
   "metadata": {},
   "outputs": [],
   "source": [
    "P16[\"mass_yield\"] = P16.Zini * (P16.OP - 1) * (1 - P16.Mrem/P16.M)"
   ]
  },
  {
   "cell_type": "code",
   "execution_count": null,
   "id": "30",
   "metadata": {},
   "outputs": [],
   "source": [
    "plt.scatter(P16.M, P16.Mrem)\n",
    "plt.xlabel(\"M ini / msun\")\n",
    "plt.ylabel(\"reminant mass / msun\")"
   ]
  },
  {
   "cell_type": "markdown",
   "id": "31",
   "metadata": {
    "jp-MarkdownHeadingCollapsed": true,
    "tags": []
   },
   "source": [
    "## R 18"
   ]
  },
  {
   "cell_type": "code",
   "execution_count": null,
   "id": "32",
   "metadata": {},
   "outputs": [],
   "source": [
    "elements = \"H, He, Li, B, C, N, O, F, Ne, Na, Mg, Al, Si, P, S, Cl, Ar, K, Ca, Sc, Ti, V, Cr, Mn, Fe, Co, Ni, Cu, Zn, Ga, Ge, As, Se, Br, Kr, Rb, Sr, Y, Zr, Nb, Mo, Ru, Rh, Pd, Ag, Cd, In, Sn, Sb, Te, I, Xe, Cs, Ba, La, Ce, Pr, Nd, Sm, Eu, Gd, Tb, Dy, Ho, Er, Tm, Yb, Lu, Hf, Ta, W, Re, Os, Ir, Pt, Au, Hg, Tl, Pb, Bi\".split(\", \")"
   ]
  },
  {
   "cell_type": "code",
   "execution_count": null,
   "id": "33",
   "metadata": {},
   "outputs": [],
   "source": [
    "def read_ritter(filename=\"element_yield_table_MESAonly_fryer12_delay_total.txt\"):\n",
    "    R18_raw = pd.DataFrame()\n",
    "\n",
    "    with open(path + \"/\" + filename) as file:\n",
    "        skip = 6\n",
    "        M = None\n",
    "        M_ej = None\n",
    "        for line in file:\n",
    "            if skip > 0:\n",
    "                skip -= 1\n",
    "                continue\n",
    "                \n",
    "            if line[:7] == \"H Table\":\n",
    "                s1, s2 = line[10:].split(\",\")\n",
    "                M = float(s1[2:])\n",
    "                Z = float(s2[2:-2])\n",
    "                skip = 1\n",
    "                continue\n",
    "                \n",
    "            if line[:8] == \"H Mfinal\":\n",
    "                M_rem = float(line[10:])\n",
    "                M_ej = M - M_rem\n",
    "                skip = 1\n",
    "                continue\n",
    "                \n",
    "            if M_ej is None:\n",
    "                continue\n",
    "            \n",
    "            _, ele, y, x0, _ = line.split(\"&\")\n",
    "    \n",
    "            y = float(y)\n",
    "            x0 = float(x0)\n",
    "    \n",
    "            row = pd.DataFrame({\"M\":M, \"Z\":Z, \"element\":ele.strip(), \"Mrem\":M_rem, \"mass_yield\":y, \"Zini\": x0}, index=[0])\n",
    "            R18_raw = pd.concat([R18_raw, row], ignore_index=True)\n",
    "        \n",
    "    return R18_raw"
   ]
  },
  {
   "cell_type": "code",
   "execution_count": null,
   "id": "34",
   "metadata": {},
   "outputs": [],
   "source": [
    "def read_ritter_iso(filename=\"element_yield_table_MESAonly_fryer12_delay_total.txt\"):\n",
    "    R18_raw = pd.DataFrame()\n",
    "\n",
    "    with open(filename) as file:\n",
    "        skip = 6\n",
    "        M = None\n",
    "        M_ej = None\n",
    "        for line in file:\n",
    "            if skip > 0:\n",
    "                skip -= 1\n",
    "                continue\n",
    "                \n",
    "            if line[:7] == \"H Table\":\n",
    "                s1, s2 = line[10:].split(\",\")\n",
    "                M = float(s1[2:])\n",
    "                Z = float(s2[2:-2])\n",
    "                skip = 1\n",
    "                continue\n",
    "                \n",
    "            if line[:8] == \"H Mfinal\":\n",
    "                M_rem = float(line[10:])\n",
    "                M_ej = M - M_rem\n",
    "                skip = 1\n",
    "                continue\n",
    "                \n",
    "            if M_ej is None:\n",
    "                continue\n",
    "            \n",
    "            _, ele, y, x0, eleZ, eleA = line.split(\"&\")\n",
    "    \n",
    "            y = float(y)\n",
    "            x0 = float(x0)\n",
    "    \n",
    "            row = pd.DataFrame({\"M\":M, \"Z\":Z, \"isotope\":ele.strip(), \"Mrem\":M_rem, \"mass_yield\":y, \"Zini\": x0}, index=[0])\n",
    "            R18_raw = pd.concat([R18_raw, row], ignore_index=True)\n",
    "        \n",
    "    return R18_raw"
   ]
  },
  {
   "cell_type": "code",
   "execution_count": null,
   "id": "35",
   "metadata": {},
   "outputs": [],
   "source": [
    "R18 = read_ritter_iso(\"isotope_yield_table_MESAonly_fryer12_delay_winds.txt\")\n",
    "R18[\"OP\"] = R18.mass_yield / ((R18.M -R18.Mrem) * R18.Zini)\n"
   ]
  },
  {
   "cell_type": "code",
   "execution_count": null,
   "id": "36",
   "metadata": {},
   "outputs": [],
   "source": [
    "R18.M"
   ]
  },
  {
   "cell_type": "code",
   "execution_count": null,
   "id": "37",
   "metadata": {},
   "outputs": [],
   "source": [
    "R18_indexed = R18.set_index([\"M\", \"Z\", \"isotope\"])"
   ]
  },
  {
   "cell_type": "code",
   "execution_count": null,
   "id": "38",
   "metadata": {},
   "outputs": [],
   "source": [
    "R18_indexed.drop_duplicates(inplace=True)"
   ]
  },
  {
   "cell_type": "code",
   "execution_count": null,
   "id": "39",
   "metadata": {},
   "outputs": [],
   "source": [
    "R18_indexed.sort_index(inplace=True)"
   ]
  },
  {
   "cell_type": "code",
   "execution_count": null,
   "id": "40",
   "metadata": {},
   "outputs": [],
   "source": [
    "R18_indexed.index"
   ]
  },
  {
   "cell_type": "code",
   "execution_count": null,
   "id": "41",
   "metadata": {},
   "outputs": [],
   "source": [
    "R18.columns"
   ]
  },
  {
   "cell_type": "code",
   "execution_count": null,
   "id": "42",
   "metadata": {},
   "outputs": [],
   "source": [
    "R18_mass = R18.groupby([\"M\", \"Z\"]).agg({\n",
    "    \"mass_yield\": \"sum\",\n",
    "    \"Mrem\": \"first\"\n",
    "})"
   ]
  },
  {
   "cell_type": "code",
   "execution_count": null,
   "id": "43",
   "metadata": {},
   "outputs": [],
   "source": [
    "R18_mass[\"Mtot\"] = R18_mass.mass_yield + R18_mass.Mrem\n",
    "R18_mass"
   ]
  },
  {
   "cell_type": "markdown",
   "id": "56",
   "metadata": {
    "tags": []
   },
   "source": [
    "## B19/21"
   ]
  },
  {
   "cell_type": "code",
   "execution_count": null,
   "id": "57",
   "metadata": {},
   "outputs": [],
   "source": [
    "b19_raw = pd.read_csv(\"Battino2019.txt\", sep=\"\\s+\", skiprows=1,)\n",
    "b21_raw = pd.read_csv(\"Battino2021.txt\", sep=\"\\s+\", skiprows=2)"
   ]
  },
  {
   "cell_type": "code",
   "execution_count": null,
   "id": "60",
   "metadata": {},
   "outputs": [],
   "source": [
    "np.sum(b19_raw.index.duplicated())"
   ]
  },
  {
   "cell_type": "code",
   "execution_count": null,
   "id": "61",
   "metadata": {},
   "outputs": [],
   "source": [
    "np.sum(b19_raw[b19_raw.Isotope.str.startswith(\"K-\")], axis=0).iloc[0]"
   ]
  },
  {
   "cell_type": "code",
   "execution_count": null,
   "id": "9d4c8003-965d-4883-b3b2-efdd9b0d4559",
   "metadata": {},
   "outputs": [],
   "source": [
    "b19_raw.loc[b19_raw.Isotope == \"n-1\", \"Isotope\"] = \"Neutron-1\"\n"
   ]
  },
  {
   "cell_type": "code",
   "execution_count": null,
   "id": "75",
   "metadata": {},
   "outputs": [],
   "source": [
    "B19 = b19_raw.melt(id_vars=[\"Isotope\"],  var_name=\"model\", value_name=\"mass_yield\")\n",
    "\n",
    "B19[\"Z\"] = 0.\n",
    "B19[\"M\"] = 0.\n",
    "B19\n",
    "\n",
    "B19.loc[B19.model == \"m2z1m2\", \"M\"] = 2.\n",
    "B19.loc[B19.model == \"m2z1m2\", \"Z\"] = 0.01\n",
    "B19.loc[B19.model == \"m2z1m2\", \"Mrem\"] = 0.632\n",
    "\n",
    "B19.loc[B19.model == \"m3z1m2\", \"M\"] = 3.\n",
    "B19.loc[B19.model == \"m3z1m2\", \"Z\"] = 0.01\n",
    "B19.loc[B19.model == \"m3z1m2\", \"Mrem\"] = 0.661\n",
    "\n",
    "\n",
    "B19.loc[B19.model == \"m2z2m2\", \"M\"] = 2.\n",
    "B19.loc[B19.model == \"m2z2m2\", \"Z\"] = 0.02\n",
    "B19.loc[B19.model == \"m2z2m2\", \"Mrem\"] = 0.646\n",
    "\n",
    "\n",
    "B19.loc[B19.model == \"m3z2m2\", \"M\"] = 3.\n",
    "B19.loc[B19.model == \"m3z2m2\", \"Z\"] = 0.02\n",
    "B19.loc[B19.model == \"m3z2m2\", \"Mrem\"] = 0.656\t\n",
    "B19[\"element\"] = get_ele(B19.Isotope)\n",
    "\n",
    "B19.loc[B19.Isotope == \"n-1\", \"Isotope\"] = \"Neutron-1\"\n",
    "B19[B19.Isotope == \"C-12\"]"
   ]
  },
  {
   "cell_type": "code",
   "execution_count": null,
   "id": "77",
   "metadata": {},
   "outputs": [],
   "source": [
    "\n",
    "\n",
    "B19 = B19[B19.M > 0]\n",
    "\n",
    "\n",
    "# B19[\"Zini\"] = [solar_Z.Z[r.element] * r.Z / Zsun for (i, r) in B19.iterrows()]\n",
    "\n",
    "# B19[\"OP\"] = B19.mass_yield / ((B19.M - B19.Mrem) * B19.Zini)\n",
    "B19_indexed = B19.set_index([\"M\", \"Z\", \"Isotope\"])\n"
   ]
  },
  {
   "cell_type": "code",
   "execution_count": null,
   "id": "78",
   "metadata": {},
   "outputs": [],
   "source": [
    "B19.Mrem.unique()"
   ]
  },
  {
   "cell_type": "code",
   "execution_count": null,
   "id": "79",
   "metadata": {},
   "outputs": [],
   "source": [
    "B21 = b21_raw.melt(id_vars=[\"Isotope\"],  var_name=\"model\", value_name=\"mass_yield\")\n",
    "\n",
    "B21[\"M\"] = 0.\n",
    "B21[\"Z\"] = 0.\n",
    "\n",
    "B21.loc[B21.model == \"m3z1m3-bigpoc\", \"M\"] = 3.\n",
    "B21.loc[B21.model == \"m3z1m3-bigpoc\", \"Z\"] = 0.001\n",
    "\n",
    "B21.loc[B21.model == \"m2z2m3-bigpoc\", \"M\"] = 2.\n",
    "B21.loc[B21.model == \"m2z2m3-bigpoc\", \"Z\"] = 0.002\n",
    "\n",
    "B21.loc[B21.model == \"m2z1m3-bigpoc\", \"M\"] = 2.\n",
    "B21.loc[B21.model == \"m2z1m3-bigpoc\", \"Z\"] = 0.001\n",
    "\n",
    "\n",
    "B21 = B21[B21.M > 0]\n",
    "B21[\"element\"] = get_ele(B21.Isotope)\n",
    "\n",
    "B21"
   ]
  },
  {
   "cell_type": "code",
   "execution_count": null,
   "id": "81",
   "metadata": {},
   "outputs": [],
   "source": [
    "B21_indexed = B21.set_index([\"M\", \"Z\", \"Isotope\"])"
   ]
  },
  {
   "cell_type": "markdown",
   "id": "7106ce2b-fc6d-429f-bf6e-60f1a4c65fe0",
   "metadata": {},
   "source": [
    "# Comparisons"
   ]
  },
  {
   "cell_type": "code",
   "execution_count": null,
   "id": "892ea9d4-3946-46f8-9d59-eba7c5e767f7",
   "metadata": {},
   "outputs": [],
   "source": [
    "def load_new_table(filename):\n",
    "    df = pd.read_csv(filename, sep=r\"\\s+\", comment=\"#\")\n",
    "\n",
    "    df.rename(columns = {\"wind_yield\": \"mass_yield\"}, inplace=True)\n",
    "    df[\"element\"] = get_ele(df.isotope)\n",
    "    \n",
    "    return df"
   ]
  },
  {
   "cell_type": "code",
   "execution_count": null,
   "id": "bba166f7-19cc-487b-97a5-2be03d0897cd",
   "metadata": {},
   "outputs": [],
   "source": [
    "\n",
    "import sys \n",
    "sys.path.append(\"..\")"
   ]
  },
  {
   "cell_type": "code",
   "execution_count": null,
   "id": "27edc656-c71b-4192-8a67-846f667cb0db",
   "metadata": {},
   "outputs": [],
   "source": [
    "from arya import arya"
   ]
  },
  {
   "cell_type": "code",
   "execution_count": null,
   "id": "8ad6d124-c900-4427-8046-e502c789182e",
   "metadata": {},
   "outputs": [],
   "source": [
    "def reproduce_ritter(mass, metallicity, modelname, decay=False):\n",
    "    if decay:\n",
    "        filename = f\"{modelname}_decay.txt\"\n",
    "    else:\n",
    "        filename = f\"{modelname}.txt\"\n",
    "    r18_new = load_new_table(filename)\n",
    "    r18 = R18_indexed.loc[mass, metallicity, :]\n",
    "    plt.scatter(get_A(r18.index.get_level_values(2)), np.log10(r18.mass_yield), label=\"R18\")\n",
    "    plt.scatter(get_A(r18_new.isotope), np.log10(r18_new.mass_yield),  ec=arya.COLORS[1], lw=0.5, fc=\"none\", label=\"recalculated\")\n",
    "\n",
    "\n",
    "    plt.ylim(-15, 0)\n",
    "\n",
    "    plt.legend(bbox_to_anchor=(1,1), loc=\"upper left\")\n",
    "    plt.title(f\"M={mass}, z={metallicity}\")\n",
    "\n",
    "    plt.xlabel(\"A\")\n",
    "    plt.ylabel(\"EM\")\n"
   ]
  },
  {
   "cell_type": "code",
   "execution_count": null,
   "id": "cc20f9a3-bb3c-4b74-b20f-7e1248b9c52f",
   "metadata": {},
   "outputs": [],
   "source": [
    "def reproduce_ritter(mass, metallicity, modelname, decay=True, ylim=(-1, 2), Xmin=1e-16):\n",
    "    if decay:\n",
    "        filename = f\"{modelname}_decay.txt\"\n",
    "    else:\n",
    "        filename = f\"{modelname}.txt\"\n",
    "    r18_new = load_new_table(filename)\n",
    "    r18 = R18_indexed.loc[mass, metallicity, :]\n",
    "    filt = r18.mass_yield / np.sum(r18.mass_yield) > Xmin\n",
    "    \n",
    "    plt.scatter(get_A(r18.index.get_level_values(2))[filt], np.log10(r18.OP[filt]), label=\"R18\")\n",
    "    \n",
    "    filt = r18_new.mass_yield / np.sum(r18_new.mass_yield) > Xmin    \n",
    "    OP = r18_new.mass_yield / np.sum(r18_new.mass_yield) / r18_new.initial_abundance\n",
    "    \n",
    "    \n",
    "    plt.scatter(get_A(r18_new.isotope[filt]), np.log10(OP[filt]),  ec=arya.COLORS[1], lw=0.5, fc=\"none\", label=\"recalculated\")\n",
    "\n",
    "\n",
    "    plt.ylim(*ylim)\n",
    "\n",
    "    plt.legend(bbox_to_anchor=(1,1), loc=\"upper left\")\n",
    "    plt.title(f\"M={mass}, z={metallicity}\")\n",
    "\n",
    "    plt.xlabel(\"A\")\n",
    "    plt.ylabel(\"log OP\")\n"
   ]
  },
  {
   "cell_type": "code",
   "execution_count": null,
   "id": "2aeb7b1b-cc73-4861-af20-5048f25a936a",
   "metadata": {},
   "outputs": [],
   "source": [
    "reproduce_ritter(2, 0.02, \"M2.00Z2.0e-02\", ylim=(-0.1, 1), decay=False)"
   ]
  },
  {
   "cell_type": "code",
   "execution_count": null,
   "id": "1e287ff2-2019-4a53-b5da-7a6af65a9f69",
   "metadata": {},
   "outputs": [],
   "source": [
    "reproduce_ritter(2, 0.02, \"M2.00Z2.0e-02\", ylim=(-0.1, 1), decay=True)"
   ]
  },
  {
   "cell_type": "code",
   "execution_count": null,
   "id": "8c9a1471-6beb-4db3-a315-07a2b68df583",
   "metadata": {},
   "outputs": [],
   "source": [
    "reproduce_ritter(7, 0.001, \"M7.000Z0.0010\", ylim=(-0.2, 0.5))"
   ]
  },
  {
   "cell_type": "code",
   "execution_count": null,
   "id": "3d5b6848-053e-427e-9946-e03cd872e476",
   "metadata": {},
   "outputs": [],
   "source": [
    "def plot_all_battino(modelname, battinomodelname=None):\n",
    "    if battinomodelname is None:\n",
    "        battinomodelname = modelname\n",
    "    b19_new = load_new_table(f\"yields_{modelname}.txt\")\n",
    "    b19_new_decay = load_new_table(f\"yields_{modelname}_decay.txt\")\n",
    "    \n",
    "    try:\n",
    "        b19 = pd.DataFrame({\n",
    "            \"mass_yield\": b19_raw[battinomodelname],\n",
    "            \"isotope\": b19_raw.Isotope,\n",
    "            \"element\": get_ele(b19_raw.Isotope),\n",
    "        })\n",
    "        \n",
    "        b19.set_index(\"isotope\", inplace=True)\n",
    "        #B19_indexed.loc[m, z, :]\n",
    "    except KeyError:\n",
    "        #b19 = b21_raw[modelname] #B21_indexed.loc[m, z, :]\n",
    "        b19 = pd.DataFrame({\n",
    "            \"mass_yield\": b21_raw[battinomodelname],\n",
    "            \"isotope\": b21_raw.Isotope,\n",
    "            \"element\": get_ele(b21_raw.Isotope),\n",
    "        })\n",
    "        \n",
    "        b19.set_index(\"isotope\", inplace=True)\n",
    "    compare_battino_ratios(b19, b19_new)\n",
    "    plt.title(modelname)\n",
    "    plt.show()\n",
    "    \n",
    "    compare_battino_yields(b19, b19_new)\n",
    "    plt.title(modelname)\n",
    "    plt.show()\n",
    "\n",
    "    reproduce_battino_ratios(b19, b19_new)\n",
    "    plt.title(modelname)\n",
    "    plt.show()\n",
    "\n",
    "    compare_yield_models([b19_new, b19_new_decay], labels=[\"ejected\", \"decayed\"], \n",
    "        kwargss = [dict(), dict(fc=\"none\", ec=arya.COLORS[1], lw=0.8)]\n",
    "                        )\n",
    "    plt.title(modelname)\n",
    "    plt.show()\n",
    "    \n",
    "    compare_OP(b19, b19_new)\n",
    "    plt.title(modelname)\n",
    "    plt.show()"
   ]
  },
  {
   "cell_type": "code",
   "execution_count": null,
   "id": "458c770f-0f16-4a92-b458-c53ee992a0b8",
   "metadata": {},
   "outputs": [],
   "source": [
    "def plot_compare_two(modelname, modelname2, **kwargs):\n",
    "    b19_new = load_new_table(f\"yields_{modelname}.txt\")\n",
    "    b19_new_decay = load_new_table(f\"yields_{modelname2}.txt\")\n",
    "\n",
    "    compare_yield_models([b19_new, b19_new_decay], labels=[modelname, modelname2],\n",
    "                          kwargss = [dict(), dict(fc=\"none\", ec=arya.COLORS[1], lw=0.8)],\n",
    "                         **kwargs\n",
    "                        )\n",
    "    plt.show()"
   ]
  },
  {
   "cell_type": "code",
   "execution_count": null,
   "id": "e10c086c-2374-42ee-be3a-3cd24b9fa7eb",
   "metadata": {},
   "outputs": [],
   "source": [
    "def compare_yield_models(models, labels, kwargss, ylim=(-12, 0), relative=False):\n",
    "\n",
    "    for i in range(len(models)):\n",
    "        model  = models[i]\n",
    "        label = labels[i]\n",
    "        kwargs = kwargss[i]\n",
    "        if relative:\n",
    "            Xf = model.mass_yield / np.sum(model.mass_yield)\n",
    "            y = np.log10(Xf / model.initial_abundance)\n",
    "        else:\n",
    "            y = np.log10(model.mass_yield)\n",
    "            \n",
    "        plt.scatter(get_A(model.isotope), y, label=label, **kwargs)\n",
    "\n",
    "    plt.ylim(*ylim)\n",
    "    plt.xlabel(\"mass number\")\n",
    "    if relative:\n",
    "        plt.ylabel(\"log OP\")\n",
    "    else:\n",
    "        plt.ylabel(\"log EM\")\n",
    "\n",
    "    plt.legend(bbox_to_anchor=(1,1), loc=\"upper left\")"
   ]
  },
  {
   "cell_type": "code",
   "execution_count": null,
   "id": "9068bc36-97bf-4905-b99e-b8209a13c36f",
   "metadata": {},
   "outputs": [],
   "source": [
    "def compare_OP(b19, model, ylim=(-1, 1.5)):\n",
    "\n",
    "\n",
    "    Xf = b19.mass_yield / np.sum(b19.mass_yield)\n",
    "    y = np.log10(Xf / model.initial_abundance.values)\n",
    "    plt.scatter(get_A(model.isotope.values), y, label=\"Battino et al.\")\n",
    "    \n",
    "    Xf = model.mass_yield / np.sum(model.mass_yield)\n",
    "    y = np.log10(Xf / model.initial_abundance)\n",
    "    plt.scatter(get_A(model.isotope), y, label=\"recalculated\",  fc=\"none\", ec=arya.COLORS[1], lw=0.8)\n",
    "\n",
    "    plt.ylim(*ylim)\n",
    "    plt.xlabel(\"mass number\")\n",
    "    plt.ylabel(\"log OP\")\n",
    "\n",
    "    plt.legend(bbox_to_anchor=(1,1), loc=\"upper left\")"
   ]
  },
  {
   "cell_type": "code",
   "execution_count": null,
   "id": "3bcbfdbd-82de-4703-85c2-74dbbf799254",
   "metadata": {},
   "outputs": [],
   "source": [
    "def compare_battino_yields(b19, b19_new):\n",
    "\n",
    "    \n",
    "    plt.scatter(get_A(b19.index), np.log10(b19.mass_yield), label=\"Battino et al.\")\n",
    "    plt.scatter(get_A(b19_new.isotope), np.log10(b19_new.mass_yield), label=\"recalculated\", fc=\"none\", ec=arya.COLORS[1], lw=0.8)\n",
    "\n",
    "    plt.ylim(-12, 0)\n",
    "    plt.xlabel(\"mass number\")\n",
    "    plt.ylabel(\"log EM\")\n",
    "\n",
    "    plt.legend(bbox_to_anchor=(1,1), loc=\"upper left\")"
   ]
  },
  {
   "cell_type": "code",
   "execution_count": null,
   "id": "fdf68d6e-3fc3-422a-9ccb-0ff57662e834",
   "metadata": {},
   "outputs": [],
   "source": []
  },
  {
   "cell_type": "code",
   "execution_count": null,
   "id": "14e93694-24dc-437b-81c9-33ac7b4c4918",
   "metadata": {},
   "outputs": [],
   "source": [
    "def compare_battino_ratios(b19, b19_new):\n",
    "    \n",
    "    for (ele, df_new) in b19_new.groupby(\"element\"):\n",
    "        df = b19[b19.element == ele]\n",
    "        df_new = df_new.set_index(\"isotope\").loc[df.index]\n",
    "        \n",
    "        if len(df) > 0:\n",
    "            plt.scatter(get_A(df.index), np.log10(df.mass_yield / df_new.mass_yield))\n",
    "        \n",
    "    plt.xlabel(\"mass number\")\n",
    "    plt.ylabel(\"log EM / EM new\")\n",
    "    plt.ylim(-1, 2)\n",
    "    #plt.axhline(1, color=\"k\", ls=\"--\")"
   ]
  },
  {
   "cell_type": "code",
   "execution_count": null,
   "id": "358398c6-b1d8-4bba-a6bf-a84ab3585df0",
   "metadata": {},
   "outputs": [],
   "source": [
    "def reproduce_battino_ratios(b19, b19_new):\n",
    "    assert np.all(b19.index == b19_new.isotope)\n",
    "    plt.scatter(get_A(b19.index), np.log10(b19.mass_yield.values / b19_new.initial_abundance), label=\"Battino\")\n",
    "    plt.scatter(get_A(b19_new.isotope), np.log10(b19_new.wind_yield_mesaevo / b19_new.initial_abundance), label=\"reproduced\", fc=\"none\", ec=arya.COLORS[1], lw=0.8)\n",
    "\n",
    "    plt.ylim(-1, 2)\n",
    "    plt.xlabel(\"A\")\n",
    "    plt.ylabel(\"log EM / Xini\")\n",
    "\n",
    "    plt.legend(bbox_to_anchor=(1,1), loc=\"upper left\")"
   ]
  },
  {
   "cell_type": "code",
   "execution_count": null,
   "id": "7f9abcb8-13c3-4195-9b09-dabdb0d919df",
   "metadata": {},
   "outputs": [],
   "source": [
    "plot_all_battino(\"m2z1m2\")"
   ]
  },
  {
   "cell_type": "code",
   "execution_count": null,
   "id": "2e811b7b-f5af-40eb-a52e-fde4b2a7652b",
   "metadata": {},
   "outputs": [],
   "source": [
    "plot_all_battino(\"m2z1m2\")"
   ]
  },
  {
   "cell_type": "code",
   "execution_count": null,
   "id": "6e3c4348-4212-4fe6-904a-d3e82be1760e",
   "metadata": {},
   "outputs": [],
   "source": [
    "plot_all_battino(\"m3z1m2\")"
   ]
  },
  {
   "cell_type": "code",
   "execution_count": null,
   "id": "b95cdc61-d89b-422a-a4e6-442fed39c39f",
   "metadata": {},
   "outputs": [],
   "source": [
    "plot_all_battino(\"m2z2m2\")"
   ]
  },
  {
   "cell_type": "code",
   "execution_count": null,
   "id": "8dfe31c1-cbf3-4689-b239-4dcda8d50805",
   "metadata": {},
   "outputs": [],
   "source": [
    "plot_all_battino(\"m3z2m2\")"
   ]
  },
  {
   "cell_type": "code",
   "execution_count": null,
   "id": "25fe4f55-12b8-497f-9204-c0dc0b9a0501",
   "metadata": {},
   "outputs": [],
   "source": []
  },
  {
   "cell_type": "code",
   "execution_count": null,
   "id": "7764541c-da4b-4ea6-b66a-71ff6a4be731",
   "metadata": {},
   "outputs": [],
   "source": [
    "plot_all_battino(\"m3z2m2_hCBM\", battinomodelname=\"m3z2m2-hCBM\")"
   ]
  },
  {
   "cell_type": "code",
   "execution_count": null,
   "id": "8d5aee93-f722-4a98-92f1-9948f44fe1ee",
   "metadata": {},
   "outputs": [],
   "source": [
    "plot_all_battino(\"m3z3m2_hCBM\", battinomodelname=\"m3z3m2-hCBM\")"
   ]
  },
  {
   "cell_type": "code",
   "execution_count": null,
   "id": "9881ea77-99b7-4518-8efe-da2896c761ca",
   "metadata": {},
   "outputs": [],
   "source": [
    "plot_all_battino(\"m2z1m3\", battinomodelname=\"m2z1m3-bigpoc\")"
   ]
  },
  {
   "cell_type": "code",
   "execution_count": null,
   "id": "b1c49005-d143-4ee2-8825-a3edcf88785b",
   "metadata": {},
   "outputs": [],
   "source": [
    "plot_all_battino(\"m3z1m3\", \"m3z1m3-bigpoc\")"
   ]
  },
  {
   "cell_type": "code",
   "execution_count": null,
   "id": "152673d0-4425-4b29-b5e4-0a5b490c8545",
   "metadata": {},
   "outputs": [],
   "source": [
    "plot_all_battino(\"m2z2m3\", \"m2z2m3-bigpoc\")"
   ]
  },
  {
   "cell_type": "code",
   "execution_count": null,
   "id": "4cb69335-a1eb-4801-b710-2eb3646339f5",
   "metadata": {},
   "outputs": [],
   "source": [
    "plot_compare_two(\"m2z2m2_decay\", \"m2z2m2_Ne22Ad01_decay\", relative=True, ylim=(-1, 1))"
   ]
  },
  {
   "cell_type": "code",
   "execution_count": null,
   "id": "79afc78f-5335-408a-ac52-8e5aadabd18e",
   "metadata": {},
   "outputs": [],
   "source": [
    "plot_compare_two(\"m3z2m2_hCBM\", \"m3z2m2\")"
   ]
  },
  {
   "cell_type": "code",
   "execution_count": null,
   "id": "8ce60161-54b5-469f-8e5e-df1a26cacff1",
   "metadata": {},
   "outputs": [],
   "source": [
    "plot_compare_two(\"m3z2m2_hCBM\", \"m3z2m2\", relative=True, ylim=(-1, 1.5))"
   ]
  },
  {
   "cell_type": "code",
   "execution_count": null,
   "id": "7d7250c4-c3f3-4135-a340-2603ce55a858",
   "metadata": {},
   "outputs": [],
   "source": [
    "plot_compare_two(\"m3z2m2_hCBM\", \"m3z2m2-rotmix.st\", relative=True, ylim=(-1, 1))"
   ]
  },
  {
   "cell_type": "code",
   "execution_count": null,
   "id": "2b226001-c78f-46d9-8470-3134f9d14546",
   "metadata": {},
   "outputs": [],
   "source": [
    "plot_compare_two(\"m3z2m2_hCBM\", \"m3z2m2-rotmix.std2\", relative=True, ylim=(-1, 1))"
   ]
  },
  {
   "cell_type": "code",
   "execution_count": null,
   "id": "da10dd06-ac86-4d0d-b318-50e1224612bf",
   "metadata": {},
   "outputs": [],
   "source": [
    "plot_compare_two(\"m3z2m2_hCBM\", \"m3z2m2-rotmix.stx2\", relative=True, ylim=(-1, 1))"
   ]
  },
  {
   "cell_type": "code",
   "execution_count": null,
   "id": "03255569-0f19-4ad1-a810-50a2ba20f12e",
   "metadata": {},
   "outputs": [],
   "source": [
    "plot_compare_two(\"m3z2m2_hCBM\", \"m3z2m2-rotmix.std2\", relative=True, ylim=(-1, 1))"
   ]
  },
  {
   "cell_type": "code",
   "execution_count": null,
   "id": "a729a341-8add-414f-8bca-c1ba927c860e",
   "metadata": {},
   "outputs": [],
   "source": []
  }
 ],
 "metadata": {
  "kernelspec": {
   "display_name": "Python 3",
   "language": "python",
   "name": "python3"
  },
  "language_info": {
   "codemirror_mode": {
    "name": "ipython",
    "version": 3
   },
   "file_extension": ".py",
   "mimetype": "text/x-python",
   "name": "python",
   "nbconvert_exporter": "python",
   "pygments_lexer": "ipython3",
   "version": "3.6.9"
  }
 },
 "nbformat": 4,
 "nbformat_minor": 5
}
