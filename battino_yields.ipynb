{
 "cells": [
  {
   "cell_type": "markdown",
   "metadata": {},
   "source": [
    "## Yield calculator."
   ]
  },
  {
   "cell_type": "markdown",
   "metadata": {},
   "source": [
    "This notebook contains the code to calculate yields from e.g. Battino et a. (2019, 2021) or Ritter et al. (2018) MESA models + stellar postprocessing.\n",
    "\n",
    "The yields we use here are the integrated total ejected mass yield, i.e.\n",
    "\n",
    "$$\n",
    "EM = \\int X_{i, \\rm surf}(t)\\,\\dot{M}(t)\\ dt\n",
    "$$\n",
    "\n",
    "To calculate this integral, we simply sum over the surface abundance (times the change in mass) for each timestep of the star. We additionally add the mass contained outside the final reminant at the final snapshot time as this should be included as well."
   ]
  },
  {
   "cell_type": "code",
   "execution_count": null,
   "metadata": {},
   "outputs": [],
   "source": [
    "from nugridpy import mesa as ms\n",
    "from nugridpy import nugridse as mp\n",
    "\n",
    "from datetime import datetime\n",
    "from dataclasses import dataclass\n",
    "\n",
    "import numpy as np\n",
    "import re"
   ]
  },
  {
   "cell_type": "code",
   "execution_count": null,
   "metadata": {},
   "outputs": [],
   "source": [
    "@dataclass \n",
    "class StarIsotopeMasses:\n",
    "    \"\"\" A class to store surface isotope data and basic star properties necessary to calculate wind yields. \"\"\"\n",
    "    mass_initial : float\n",
    "    metallicity : float\n",
    "    modelname : str\n",
    "    \n",
    "    iso_massf : list\n",
    "    mass : list\n",
    "    mass_final_h_free : float\n",
    "    isotopes : list\n",
    "    \n",
    "    @classmethod\n",
    "    def from_mesa(cls, star_log_path, se_surf_path, *, mass_initial=None, metallicity = None, modelname = \"\"):\n",
    "        print(\"opening files\")\n",
    "        pt_surf = mp.se(\n",
    "            sedir=se_surf_path\n",
    "        )\n",
    "        sl = ms.history_data(\n",
    "            star_log_path\n",
    "        )\n",
    "\n",
    "        isotopes = pt_surf.se.isotopes\n",
    "    \n",
    "        print()\n",
    "        iso_massf = pt_surf.get(\"iso_massf\")\n",
    "        print()\n",
    "        mass = pt_surf.get(\"mass\")\n",
    "\n",
    "        mass_final_h_free = sl.get(\"h1_boundary_mass\")[-1]\n",
    "        if mass_initial is None:\n",
    "            mass_initial = mass[0]\n",
    "        if metallicity is None:\n",
    "            metallicity = -1 # TODO actually calculate\n",
    "        \n",
    "        return cls(\n",
    "            mass_initial = mass_initial,\n",
    "            metallicity = metallicity,\n",
    "            modelname = modelname, \n",
    "            iso_massf = iso_massf,\n",
    "            mass = mass,\n",
    "            mass_final_h_free = mass_final_h_free,\n",
    "            isotopes = isotopes,\n",
    "        )\n",
    "    \n",
    "    "
   ]
  },
  {
   "cell_type": "code",
   "execution_count": null,
   "metadata": {},
   "outputs": [],
   "source": [
    "def calc_wind_yields_postmesa(starisos):\n",
    "    Xf = starisos.iso_massf[-1]\n",
    "\n",
    "    yields = (starisos.mass[-1] - starisos.mass_final_h_free) * Xf\n",
    "\n",
    "    return yields"
   ]
  },
  {
   "cell_type": "code",
   "execution_count": null,
   "metadata": {},
   "outputs": [],
   "source": [
    "def calc_wind_yields_mesaevo(mass, iso_massf):\n",
    "    EM = np.zeros(len(iso_massf[0]))\n",
    "    dm = -np.diff(mass)\n",
    "\n",
    "    for i in range(len(mass) - 1):\n",
    "        if i % 1000 == 0:\n",
    "            print(f\"summing {i} / {len(mass)}\", end=\"\\r\")\n",
    "            \n",
    "        X = iso_massf[i + 1]\n",
    "        EM += dm[i] * X\n",
    "\n",
    "    return EM"
   ]
  },
  {
   "cell_type": "code",
   "execution_count": null,
   "metadata": {},
   "outputs": [],
   "source": [
    "def write_datatable(filename, data: dict):\n",
    "    columns = list(data.keys())\n",
    "    \n",
    "    with open(filename, \"a\") as file:\n",
    "        # write header\n",
    "        \n",
    "        for col in columns:\n",
    "            print(f\"{col:15} \", file=file, end=\"\")\n",
    "        print(file=file)\n",
    "\n",
    "        Nrows = len(data[columns[0]])\n",
    "        \n",
    "        for i in range(Nrows):\n",
    "            for col in columns:\n",
    "                val = data[col][i]\n",
    "                T = type(val)\n",
    "                if T is str:\n",
    "                    print(f\"{val:15} \", file=file, end=\"\")\n",
    "                elif isinstance(val, (int)):\n",
    "                    print(f\"{val:15i} \", file=file, end=\"\")\n",
    "                elif isinstance(val, (float, np.floating)):\n",
    "                    print(f\"{val:15.6e} \", file=file, end=\"\")\n",
    "                else:\n",
    "                    raise Exception(f\"dtype not known: {type(val)}\")\n",
    "                \n",
    "            print(file=file)\n",
    "            # end col loop\n",
    "            \n",
    "        # end row loop\n",
    "    # end open file\n",
    "    "
   ]
  },
  {
   "cell_type": "code",
   "execution_count": null,
   "metadata": {},
   "outputs": [],
   "source": [
    "@dataclass\n",
    "class CalculatedYields:\n",
    "    modelname : str\n",
    "    mass_initial : float\n",
    "    metallicity : float\n",
    "    \n",
    "    mass_final_mesa : float\n",
    "    mass_final_h_free : float\n",
    "    \n",
    "    isotopes : list\n",
    "    initial_abundances : list\n",
    "    wind_yields : list\n",
    "    wind_yields_mesaevo : list\n",
    "    wind_yields_postmesa : list\n",
    "    \n",
    "    \n",
    "    @classmethod \n",
    "    def from_starisos(cls, starisos):\n",
    "        initial_abundances = starisos.iso_massf[0]\n",
    "        initial_mass = starisos.mass_initial\n",
    "        remnant_mass = starisos.mass_final_h_free\n",
    "        \n",
    "        wind_yields_mesaevo = calc_wind_yields_mesaevo(starisos.mass, starisos.iso_massf)\n",
    "        wind_yields_postmesa = calc_wind_yields_postmesa(starisos)\n",
    "        wind_yields = wind_yields_mesaevo + wind_yields_postmesa\n",
    "        \n",
    "        return cls(\n",
    "            modelname = starisos.modelname,\n",
    "            mass_initial = starisos.mass_initial,\n",
    "            metallicity = starisos.metallicity,\n",
    "            mass_final_h_free = starisos.mass_final_h_free,\n",
    "            mass_final_mesa = starisos.mass[-1],\n",
    "            isotopes = starisos.isotopes,\n",
    "            initial_abundances = initial_abundances,\n",
    "            wind_yields = wind_yields,\n",
    "            wind_yields_postmesa = wind_yields_postmesa,\n",
    "            wind_yields_mesaevo = wind_yields_mesaevo\n",
    "        )\n",
    "           \n",
    "        \n",
    "    def _write_header(self, filename):\n",
    "        with open(filename, \"w\") as file:\n",
    "            print(\"# Battino yields\", file=file)\n",
    "            print(f\"# Model: {self.modelname}\", file=file)\n",
    "            print(f\"# Mini: {self.mass_initial:0.2f}\", file=file)\n",
    "            print(f\"# Z: {self.metallicity:0.2e}\", file=file)\n",
    "            print(f\"# Mfinal: {self.mass_final_h_free}\", file=file)\n",
    "            print(f\"# Mfinal (MESA): {self.mass_final_mesa}\", file=file)\n",
    "            print(\n",
    "                f\"# Created by Daniel Boyea on {datetime.today().strftime('%Y-%m-%d')}\",\n",
    "                file=file,\n",
    "            )\n",
    "        \n",
    "    @property\n",
    "    def _datadict(self):\n",
    "        return {\n",
    "            \"isotope\": self.isotopes,\n",
    "            \"wind_yield\": self.wind_yields,\n",
    "            \"initial_abundance\": self.initial_abundances,\n",
    "            \"wind_yield_mesaevo\": self.wind_yields_mesaevo,\n",
    "            \"wind_yield_postmesa\": self.wind_yields_postmesa,\n",
    "        }\n",
    "    \n",
    "    \n",
    "    def write(self, filename=None):\n",
    "        if filename is None:\n",
    "            filename = f\"yields_{self.modelname}.txt\"\n",
    "            \n",
    "        self._write_header(filename)\n",
    "        write_datatable(filename, self._datadict)\n",
    "        "
   ]
  },
  {
   "cell_type": "markdown",
   "metadata": {},
   "source": [
    "# Ritter 2018"
   ]
  },
  {
   "cell_type": "code",
   "execution_count": null,
   "metadata": {},
   "outputs": [],
   "source": [
    "def calc_all_ritter18(modelname):\n",
    "    sl = get_sl_path_ritter18(modelname)\n",
    "    se = get_se_path_ritter18(modelname) + \"/H5_surf\"\n",
    "    \n",
    "    mass_initial, metallicity = get_initial_mass_metallicity(modelname)\n",
    "    \n",
    "    \n",
    "    starisos = StarIsotopeMasses.from_mesa(sl, se, mass_initial=mass_initial, metallicity=metallicity, modelname=modelname)\n",
    "    yields = CalculatedYields.from_starisos(starisos)\n",
    "    yields.write()\n"
   ]
  },
  {
   "cell_type": "code",
   "execution_count": null,
   "metadata": {},
   "outputs": [],
   "source": [
    "def get_se_path_ritter18(modelname):\n",
    "    setname = get_setname(modelname)\n",
    "    path = f\"/data/nugrid_data/set1ext/{setname}/ppd_wind/{modelname}/\"\n",
    "\n",
    "    return path"
   ]
  },
  {
   "cell_type": "code",
   "execution_count": null,
   "metadata": {},
   "outputs": [],
   "source": [
    "def get_sl_path_ritter18(modelname):\n",
    "    setname = get_setname(modelname)\n",
    "\n",
    "    path = f\"/data/nugrid_data/set1ext/{setname}/see_wind/{modelname}/LOGS\"     \n",
    "    \n",
    "    return path"
   ]
  },
  {
   "cell_type": "code",
   "execution_count": null,
   "metadata": {},
   "outputs": [],
   "source": [
    "def get_setname(modelname):\n",
    "    M, Z = get_initial_mass_metallicity(modelname)\n",
    "    if Z == 0.02:\n",
    "        setname = \"set1.2\"\n",
    "    elif Z == 0.01:\n",
    "        setname = \"set1.1\"\n",
    "    elif Z == 6.0e-03:\n",
    "        setname = \"set1.3a\"\n",
    "    elif Z == 1.0e-03:\n",
    "        setname = \"set1.4a\"\n",
    "    elif Z == 1.0e-04:\n",
    "        setname = \"set1.5a\"\n",
    "    else:\n",
    "        raise Exception(\"set not found\")\n",
    "    return setname"
   ]
  },
  {
   "cell_type": "code",
   "execution_count": null,
   "metadata": {},
   "outputs": [],
   "source": [
    "def get_initial_mass_metallicity(modelname):\n",
    "    \"\"\"\n",
    "    Extracts two float numbers from a string of the format \"M<number>Z<number>\".\n",
    "    \n",
    "    Parameters:\n",
    "        input_string (str): The input string to parse.\n",
    "    \n",
    "    Returns:\n",
    "        tuple: A tuple containing two floats (M value, Z value).\n",
    "    \"\"\"\n",
    "    pattern = r\"M([-+]?\\d*\\.?\\d+(?:[eE][-+]?\\d+)?)Z([-+]?\\d*\\.?\\d+(?:[eE][-+]?\\d+)?)\"\n",
    "    match = re.match(pattern, modelname)\n",
    "    if match:\n",
    "        m_value = float(match.group(1))\n",
    "        z_value = float(match.group(2))\n",
    "        return m_value, z_value\n",
    "    else:\n",
    "        raise ValueError(f\"String format invalid: {modelname}\")"
   ]
  },
  {
   "cell_type": "code",
   "execution_count": null,
   "metadata": {},
   "outputs": [],
   "source": [
    "calc_all_ritter18(\"M2.00Z2.0e-02\");"
   ]
  },
  {
   "cell_type": "code",
   "execution_count": null,
   "metadata": {},
   "outputs": [],
   "source": [
    "calc_all_ritter18(\"M7.000Z0.0010\");"
   ]
  },
  {
   "cell_type": "markdown",
   "metadata": {},
   "source": [
    "# Battino 2019"
   ]
  },
  {
   "cell_type": "code",
   "execution_count": null,
   "metadata": {},
   "outputs": [],
   "source": [
    "def get_set_battino19(modelname):\n",
    "    if \"z2m2\" in modelname:\n",
    "        setname = \"set1.2\"\n",
    "    elif \"z3m2\" in modelname:\n",
    "        setname = \"set1.3\"\n",
    "    elif \"z1m2\" in modelname:\n",
    "        setname = \"set1.1\"\n",
    "    else:\n",
    "        raise Exception(\"set not found\")\n",
    "        \n",
    "    return setname"
   ]
  },
  {
   "cell_type": "code",
   "execution_count": null,
   "metadata": {},
   "outputs": [],
   "source": [
    "def get_se_path_battino19(modelname):\n",
    "    setname = get_set_battino19(modelname)\n",
    "\n",
    "    path = f\"/data/nugrid_data/set1upd/{setname}/ppd_wind/RUN_set1upd_{modelname}/\"\n",
    "\n",
    "    return path"
   ]
  },
  {
   "cell_type": "code",
   "execution_count": null,
   "metadata": {},
   "outputs": [],
   "source": [
    "def get_sl_path_battino19(modelname):\n",
    "    setname = get_set_battino19(modelname)\n",
    "\n",
    "    path = f\"/data/nugrid_data/set1upd/{setname}/see_wind/MESA_directories/{modelname}/LOGS\"   \n",
    "        \n",
    "    return path"
   ]
  },
  {
   "cell_type": "code",
   "execution_count": null,
   "metadata": {},
   "outputs": [],
   "source": [
    "def calc_all_battino19(modelname):\n",
    "    sl = get_sl_path_battino19(modelname)\n",
    "    se = get_se_path_battino19(modelname) + \"/H5_surf\"\n",
    "    \n",
    "    if \"m2z\" in modelname:\n",
    "        mass_initial = 2\n",
    "    elif \"m3z\" in modelname:\n",
    "        mass_initial = 3\n",
    "    else:\n",
    "        pass\n",
    "    \n",
    "    if \"z2m2\" in modelname:\n",
    "        metallicity = 2e-2\n",
    "    elif \"z1m2\" in modelname:\n",
    "        metallicity = 1e-2\n",
    "    \n",
    "    \n",
    "    starisos = StarIsotopeMasses.from_mesa(sl, se, mass_initial=mass_initial, metallicity=metallicity, modelname=modelname)\n",
    "    yields = CalculatedYields.from_starisos(starisos)\n",
    "    yields.write()\n"
   ]
  },
  {
   "cell_type": "code",
   "execution_count": null,
   "metadata": {
    "jupyter": {
     "outputs_hidden": true
    },
    "tags": []
   },
   "outputs": [],
   "source": [
    "calc_all_battino19(\"m2z2m2\")"
   ]
  },
  {
   "cell_type": "code",
   "execution_count": null,
   "metadata": {},
   "outputs": [],
   "source": [
    "calc_all_battino19(\"m3z2m2\")"
   ]
  },
  {
   "cell_type": "code",
   "execution_count": null,
   "metadata": {},
   "outputs": [],
   "source": [
    "calc_all_battino19(\"m2z1m2\")"
   ]
  },
  {
   "cell_type": "code",
   "execution_count": null,
   "metadata": {},
   "outputs": [],
   "source": [
    "calc_all_battino19(\"m3z1m2\")"
   ]
  },
  {
   "cell_type": "markdown",
   "metadata": {},
   "source": [
    "# Battino et al. 2021\n",
    "\n",
    "because the nugrid's star log seems to require writing the .logsa file, I have copied the directories into this folder for the models in this set so that ms.history_data does not fail."
   ]
  },
  {
   "cell_type": "code",
   "execution_count": null,
   "metadata": {},
   "outputs": [],
   "source": [
    "def get_se_path_battino(modelname):\n",
    "    setname = get_set(modelname)\n",
    "    if \"set1.0\" in setname:\n",
    "        path = f\"/data/nugrid_data/set1upd/{setname}/ppd_wind/{modelname}/\"\n",
    "    else:\n",
    "        path = f\"/data/nugrid_data/set1upd/{setname}/ppd_wind/RUN_set1upd_{modelname}/\"\n",
    "\n",
    "    return path"
   ]
  },
  {
   "cell_type": "code",
   "execution_count": null,
   "metadata": {},
   "outputs": [],
   "source": [
    "def get_sl_path_battino(modelname):\n",
    "    setname = get_set(modelname)\n",
    "    if \"set1.0\" in setname: \n",
    "        path = f\"/data/nugrid_data/set1upd/{setname}/see_wind/{modelname}/LOGS\"\n",
    "    else:\n",
    "        path = f\"/data/nugrid_data/set1upd/{setname}/see_wind/MESA_directories/{modelname}/LOGS\"   \n",
    "        \n",
    "    return path"
   ]
  },
  {
   "cell_type": "code",
   "execution_count": null,
   "metadata": {},
   "outputs": [],
   "source": [
    "def calc_all_battino21(modelname, **kwargs):\n",
    "    starisos = StarIsotopeMasses.from_mesa(f\"{modelname}/LOGS\", f\"{modelname}/H5_surf\", modelname=modelname, **kwargs)\n",
    "    yields = CalculatedYields.from_starisos(starisos)\n",
    "    yields.write()\n",
    "    return yields"
   ]
  },
  {
   "cell_type": "code",
   "execution_count": null,
   "metadata": {
    "jupyter": {
     "outputs_hidden": true
    },
    "tags": []
   },
   "outputs": [],
   "source": [
    "calc_all_battino21(\"m3z1m3\", mass_initial=3, metallicity=1e-3)"
   ]
  },
  {
   "cell_type": "code",
   "execution_count": null,
   "metadata": {
    "tags": []
   },
   "outputs": [],
   "source": [
    "calc_all_battino21(\"m2z1m3\", mass_initial=2, metallicity=1e-3);"
   ]
  },
  {
   "cell_type": "code",
   "execution_count": null,
   "metadata": {
    "tags": []
   },
   "outputs": [],
   "source": [
    "calc_all_battino21(\"m2z2m3\", mass_initial=2, metallicity=2e-3);"
   ]
  },
  {
   "cell_type": "code",
   "execution_count": null,
   "metadata": {},
   "outputs": [],
   "source": [
    "calc_all(\"m3z1m3-bigpoc\")"
   ]
  },
  {
   "cell_type": "code",
   "execution_count": null,
   "metadata": {},
   "outputs": [],
   "source": [
    "calc_all_lowz(\"m2z1m3\")"
   ]
  },
  {
   "cell_type": "code",
   "execution_count": null,
   "metadata": {},
   "outputs": [],
   "source": [
    "calc_all_lowz(\"m3z1m3\")"
   ]
  },
  {
   "cell_type": "code",
   "execution_count": null,
   "metadata": {},
   "outputs": [],
   "source": [
    "calc_all_lowz(\"m2z2m3\")"
   ]
  }
 ],
 "metadata": {
  "kernelspec": {
   "display_name": "Python 3",
   "language": "python",
   "name": "python3"
  },
  "language_info": {
   "codemirror_mode": {
    "name": "ipython",
    "version": 3
   },
   "file_extension": ".py",
   "mimetype": "text/x-python",
   "name": "python",
   "nbconvert_exporter": "python",
   "pygments_lexer": "ipython3",
   "version": "3.6.9"
  }
 },
 "nbformat": 4,
 "nbformat_minor": 4
}
