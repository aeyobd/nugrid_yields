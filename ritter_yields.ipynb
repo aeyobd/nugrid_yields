{
 "cells": [
  {
   "cell_type": "markdown",
   "metadata": {},
   "source": [
    "## Yield calculator."
   ]
  },
  {
   "cell_type": "markdown",
   "metadata": {},
   "source": [
    "This notebook contains the code to calculate yields from e.g. Battino et a. (2019, 2021) or Ritter et al. (2018) MESA models + stellar postprocessing.\n",
    "\n",
    "The yields we use here are the integrated total ejected mass yield, i.e.\n",
    "\n",
    "$$\n",
    "EM = \\int X_{i, \\rm surf}(t)\\,\\dot{M}(t)\\ dt\n",
    "$$\n",
    "\n",
    "To calculate this integral, we simply sum over the surface abundance (times the change in mass) for each timestep of the star. We additionally add the mass contained outside the final reminant at the final snapshot time as this should be included as well."
   ]
  },
  {
   "cell_type": "code",
   "execution_count": null,
   "metadata": {},
   "outputs": [],
   "source": [
    "from nugridpy import mesa as ms\n",
    "from nugridpy import nugridse as mp\n",
    "\n",
    "# default data location (try mirror if default\n",
    "# is not available)\n",
    "import matplotlib.pyplot as plt"
   ]
  },
  {
   "cell_type": "code",
   "execution_count": null,
   "metadata": {},
   "outputs": [],
   "source": [
    "import sys, contextlib, io"
   ]
  },
  {
   "cell_type": "code",
   "execution_count": null,
   "metadata": {},
   "outputs": [],
   "source": [
    "import numpy as np"
   ]
  },
  {
   "cell_type": "markdown",
   "metadata": {},
   "source": [
    "### The MESA stellar evolution model\n",
    "\n",
    "By default MESA is putting out two types of data. History data provides the time evolution of scalar quantities, one per time step. This data can be accessed with the `mesa.star_log` (or `mesa.history_data` which is the same) class.\n",
    "\n",
    "MESA also outputs profile data at select time steps. Profiles are available via the `mesa_profile` class.\n",
    "\n",
    "#### History data\n",
    "Initialise the 2 solar-mass Z=0.02 MESA stellar evolution model from set1.2 using the seeker method:"
   ]
  },
  {
   "cell_type": "code",
   "execution_count": null,
   "metadata": {},
   "outputs": [],
   "source": [
    "# is not available)\n",
    "data_dir=\"/data/ASDR/NuGrid\"  \n",
    "\n",
    "# mirror NuGrid data location - uncomment both of the following lines\n",
    "# ![ ! -h /user/data ] && ln -s /data/nugrid_data /user/data\n",
    "# data_dir = '/user'\n",
    "\n",
    "ms.set_nugrid_path(data_dir)\n",
    "mp.set_nugrid_path(data_dir)"
   ]
  },
  {
   "cell_type": "code",
   "execution_count": null,
   "metadata": {},
   "outputs": [],
   "source": [
    "setname = \"set1.2\"\n",
    "modelname = \"M2.00Z2.0e-02\""
   ]
  },
  {
   "cell_type": "code",
   "execution_count": null,
   "metadata": {},
   "outputs": [],
   "source": [
    "pt = mp.se(sedir=f\"/data/nugrid_data/set1ext/{setname}/ppd_wind/{modelname}/H5_out\")\n",
    "\n"
   ]
  },
  {
   "cell_type": "code",
   "execution_count": null,
   "metadata": {},
   "outputs": [],
   "source": [
    "pt_surf = mp.se(sedir=f\"/data/nugrid_data/set1ext/{setname}/ppd_wind/{modelname}/H5_surf/\")"
   ]
  },
  {
   "cell_type": "markdown",
   "metadata": {},
   "source": [
    "#### What quantities are available in this data type, and what are the units?\n",
    "Each of the _se_ file sets (in fact each of the dozens of hdf5 files that make up the data set for one mass/metallicty combination, or stellar evolution track) has three types of data contained in them:\n",
    "\n",
    "data type access | content \n",
    "----------------|---------\n",
    " `pt.se.hattrs` |  a header section that holds the _header attributes_, including units in the form of factors so that if applied with the quantities the result is in cgs units \n",
    "`pt.se.cattrs` | for each cycle (or time step) the _cycle attributes_ are a number of scalar global quantities, such as total mass or star age\n",
    "`pt.se.dcols` | again, for each time step these are the vector quantities available, i.e. the data table columns; one of the data columns, _iso_massf_ is in fact a matrix where the matrix columns are different species, i.e. a radial vector of species vectors"
   ]
  },
  {
   "cell_type": "code",
   "execution_count": null,
   "metadata": {},
   "outputs": [],
   "source": [
    "pt.se.hattrs"
   ]
  },
  {
   "cell_type": "code",
   "execution_count": null,
   "metadata": {},
   "outputs": [],
   "source": [
    "pt.se.cattrs"
   ]
  },
  {
   "cell_type": "code",
   "execution_count": null,
   "metadata": {},
   "outputs": [],
   "source": [
    "pt.se.dcols"
   ]
  },
  {
   "cell_type": "code",
   "execution_count": null,
   "metadata": {},
   "outputs": [],
   "source": [
    "def calc_wind_yields(mass, iso_massf):\n",
    "    EM = np.zeros(len(iso_massf[0]))\n",
    "    dm = -np.diff(mass)\n",
    "\n",
    "    \n",
    "    for i in range(len(mass) - 1):\n",
    "        print(f\"{i} / {len(mass)}\", end=\"\\r\")\n",
    "        X = iso_massf[i + 1]\n",
    "        EM += dm[i] * X\n",
    "        \n",
    "    return EM\n",
    "    "
   ]
  },
  {
   "cell_type": "code",
   "execution_count": null,
   "metadata": {},
   "outputs": [],
   "source": [
    "def get_setname(modelname):\n",
    "    Z = modelname.split(\"Z\")[1]\n",
    "    Z = float(Z)\n",
    "    if Z == 0.02:\n",
    "        setname = \"set1.2\"\n",
    "    elif Z == 0.01:\n",
    "        setname = \"set1.1\"\n",
    "    elif Z == 6.0e-03:\n",
    "        setname = \"set1.3a\"\n",
    "    elif Z == 1.0e-03:\n",
    "        setname = \"set1.4a\"\n",
    "    elif Z == 1.0e-04:\n",
    "        setname = \"set1.5a\"\n",
    "    else:\n",
    "        raise Exception(\"set not found\")\n",
    "    return setname"
   ]
  },
  {
   "cell_type": "code",
   "execution_count": null,
   "metadata": {},
   "outputs": [],
   "source": [
    "def calc_rem_yield(pt, m_rem):\n",
    "    cyclemax = np.int64(pt.se.cycles[-1])\n",
    "    mass = pt.get(cyclemax, \"mass\")\n",
    "    filt = mass > m_rem\n",
    "    \n",
    "    f = io.StringIO()\n",
    "    Xs = pt.get(cyclemax, \"iso_massf\")[filt, :]\n",
    "    \n",
    "    dm = np.gradient(mass)[filt]\n",
    "    \n",
    "    ele_mass = Xs * np.reshape(dm, (-1, 1))\n",
    "\n",
    "    \n",
    "    return np.sum(ele_mass, axis=0)"
   ]
  },
  {
   "cell_type": "code",
   "execution_count": null,
   "metadata": {},
   "outputs": [],
   "source": [
    "def calc_all(modelname, *, H_min=0.01, tol=1e-3):\n",
    "    setname = get_setname(modelname)\n",
    "    print(\"reading \", setname)\n",
    "    pt = mp.se(sedir=f\"/data/nugrid_data/set1ext/{setname}/ppd_wind/{modelname}/H5_out/\")\n",
    "    pt_surf = mp.se(sedir=f\"/data/nugrid_data/set1ext/{setname}/ppd_wind/{modelname}/H5_surf/\")\n",
    "    print(\"read all files\")\n",
    "    \n",
    "    isotopes = pt.se.isotopes\n",
    "    print(isotopes[0:3])\n",
    "    idx_h = np.where(np.array(pt.se.isotopes) == \"H-1\")[0][0]\n",
    "\n",
    "    assert isotopes[idx_h] == \"H-1\" # need for later...\n",
    "\n",
    "    print(\"reading arrays\")\n",
    "    Xs_surf = pt_surf.get(\"iso_massf\")\n",
    "    mass = pt_surf.get(\"mass\")\n",
    "    \n",
    "    print(\"calculating wind yields\")\n",
    "    EM_wind = calc_wind_yields(mass, Xs_surf)\n",
    "    m_ej = mass[0] - mass[-1]\n",
    "    \n",
    "    if abs(1 - m_ej / np.sum(EM_wind)) > tol:\n",
    "        print(\"mass mismatch\")\n",
    "        print(\"yield sum: \", EM_wind)\n",
    "        print(\"expected\", m_ej)\n",
    "        \n",
    "    \n",
    "    print(\"calculating reminant yields\")\n",
    "    cyclemax = np.int64(pt.se.cycles[-1])\n",
    "    m_end = pt.get(cyclemax, \"mass\")\n",
    "    Xs_end = pt.get(cyclemax, \"iso_massf\")\n",
    "    \n",
    "    m_rem = m_end[Xs_end[:, 0] > H_min][0]\n",
    "    \n",
    "    rem_yield = calc_rem_yield(pt, m_rem)\n",
    "    \n",
    "    tot_yield = rem_yield + EM_wind\n",
    "    \n",
    "    if abs(1 - (np.sum(tot_yield) + m_rem)/mass[0]) > tol:\n",
    "        print(\"mass loss from yields \", np.sum(tot_yield))\n",
    "        print(\"mini - mrem\", mass[0] - m_rem)\n",
    "    \n",
    "    \n",
    "    filename = f\"yields_{modelname}.txt\"\n",
    "    Xi = Xs_surf[0]\n",
    "\n",
    "    if np.abs(np.sum(Xi)-1) > tol:\n",
    "        print(\"surface initial abundance sum:\", np.sum(Xi))\n",
    "    print(\"writing to file \", filename)\n",
    "\n",
    "    write_header(filename, modelname, setname, mass, m_rem)\n",
    "    write_yields(filename, isotopes, tot_yield, Xi)\n",
    "            \n",
    "    return tot_yield"
   ]
  },
  {
   "cell_type": "code",
   "execution_count": null,
   "metadata": {},
   "outputs": [],
   "source": [
    "modelname"
   ]
  },
  {
   "cell_type": "code",
   "execution_count": null,
   "metadata": {},
   "outputs": [],
   "source": [
    "from datetime import datetime"
   ]
  },
  {
   "cell_type": "code",
   "execution_count": null,
   "metadata": {},
   "outputs": [],
   "source": [
    "def write_header(filename, modelname, setname, mass, m_rem):\n",
    "    with open(filename, \"w\") as file:\n",
    "        print(\"# Ritter 2018 yields\", file=file)\n",
    "        print(f\"# Model: {modelname}\", file=file)\n",
    "        print(f\"# Set: {setname}\", file=file)\n",
    "        print(f\"# Mini: {mass[0]:0.2f}\", file=file)\n",
    "        print(f\"# Mfinal: {m_rem}\", file=file)\n",
    "        print(f\"# Created by Daniel Boyea on {datetime.today().strftime('%Y-%m-%d')}\", file=file)\n",
    "        print(f\"{'isotope':10}    {'mass_yield':8}     {'X0':8}\", file=file)"
   ]
  },
  {
   "cell_type": "code",
   "execution_count": null,
   "metadata": {},
   "outputs": [],
   "source": [
    "def write_yields(filename, isotopes, yields, Xini):\n",
    "    with open(filename, \"a\") as file:\n",
    "        for i in range(len(tot_yield)):\n",
    "            print(f\"{isotopes[i]:10}     {yields[i]:8.4e}     {Xini[i]:8.4e}\", file=file)"
   ]
  },
  {
   "cell_type": "code",
   "execution_count": null,
   "metadata": {},
   "outputs": [],
   "source": [
    "calc_all(\"M2.00Z2.0e-02\")"
   ]
  },
  {
   "cell_type": "code",
   "execution_count": null,
   "metadata": {},
   "outputs": [],
   "source": [
    "calc_all(\"M7.000Z0.0010\")"
   ]
  },
  {
   "cell_type": "code",
   "execution_count": null,
   "metadata": {},
   "outputs": [],
   "source": [
    "calc_all(\"M5.00Z2.0e-02\")"
   ]
  },
  {
   "cell_type": "code",
   "execution_count": null,
   "metadata": {},
   "outputs": [],
   "source": [
    "Xs_surf = pt_surf.get(\"iso_massf\")"
   ]
  },
  {
   "cell_type": "code",
   "execution_count": null,
   "metadata": {},
   "outputs": [],
   "source": [
    "mass = pt_surf.get(\"mass\")"
   ]
  },
  {
   "cell_type": "code",
   "execution_count": null,
   "metadata": {},
   "outputs": [],
   "source": [
    "EM_wind = calc_wind_yields(mass, Xs_surf)"
   ]
  },
  {
   "cell_type": "code",
   "execution_count": null,
   "metadata": {},
   "outputs": [],
   "source": [
    "mass[0] - mass[-1]"
   ]
  },
  {
   "cell_type": "code",
   "execution_count": null,
   "metadata": {},
   "outputs": [],
   "source": [
    "np.sum(EM_wind)"
   ]
  },
  {
   "cell_type": "code",
   "execution_count": null,
   "metadata": {},
   "outputs": [],
   "source": [
    "cyclemax = np.int64(pt.se.cycles[-1])"
   ]
  },
  {
   "cell_type": "code",
   "execution_count": null,
   "metadata": {},
   "outputs": [],
   "source": [
    "m_end = pt.get(cyclemax, \"mass\")"
   ]
  },
  {
   "cell_type": "code",
   "execution_count": null,
   "metadata": {},
   "outputs": [],
   "source": [
    "m_end[-1]"
   ]
  },
  {
   "cell_type": "code",
   "execution_count": null,
   "metadata": {},
   "outputs": [],
   "source": [
    "Xs_end = pt.get(cyclemax, \"iso_massf\")"
   ]
  },
  {
   "cell_type": "code",
   "execution_count": null,
   "metadata": {},
   "outputs": [],
   "source": [
    "m_rem = m_end[Xs_end[:, 0] > 0.01][0]"
   ]
  },
  {
   "cell_type": "code",
   "execution_count": null,
   "metadata": {},
   "outputs": [],
   "source": [
    "m_rem"
   ]
  },
  {
   "cell_type": "code",
   "execution_count": null,
   "metadata": {},
   "outputs": [],
   "source": [
    "rem_yield = calc_rem_yield(pt, m_rem)"
   ]
  },
  {
   "cell_type": "code",
   "execution_count": null,
   "metadata": {},
   "outputs": [],
   "source": [
    "isotopes = (pt.se.isotopes)"
   ]
  },
  {
   "cell_type": "code",
   "execution_count": null,
   "metadata": {},
   "outputs": [],
   "source": [
    "np.sum(rem_yield)"
   ]
  },
  {
   "cell_type": "code",
   "execution_count": null,
   "metadata": {},
   "outputs": [],
   "source": [
    "tot_yield = rem_yield + EM_wind"
   ]
  },
  {
   "cell_type": "code",
   "execution_count": null,
   "metadata": {},
   "outputs": [],
   "source": [
    "np.sum(tot_yield) + m_rem"
   ]
  },
  {
   "cell_type": "code",
   "execution_count": null,
   "metadata": {},
   "outputs": [],
   "source": [
    "modelname"
   ]
  },
  {
   "cell_type": "code",
   "execution_count": null,
   "metadata": {},
   "outputs": [],
   "source": [
    "print(f\"{'Element':10}\\t{'total':8}\\t{'ejectedonly'}\")\n",
    "for i in range(len(tot_yield)):\n",
    "    print(f\"{isotopes[i]:10}\\t{tot_yield[i]:8.4e}\\t{EM_wind[i]:8.4e}\")\n",
    "    \n",
    "    "
   ]
  },
  {
   "cell_type": "markdown",
   "metadata": {},
   "source": [
    "## Surface abundance plots"
   ]
  },
  {
   "cell_type": "code",
   "execution_count": null,
   "metadata": {},
   "outputs": [],
   "source": [
    "model_number = [int(c) for c in pt_surf.se.cycles]\n"
   ]
  },
  {
   "cell_type": "code",
   "execution_count": null,
   "metadata": {},
   "outputs": [],
   "source": [
    "Xs_surf = np.array(pt_surf.get(model_number, \"iso_massf\"))"
   ]
  },
  {
   "cell_type": "code",
   "execution_count": null,
   "metadata": {},
   "outputs": [],
   "source": [
    "m_star = pt_surf.get(\"mass\")"
   ]
  },
  {
   "cell_type": "code",
   "execution_count": null,
   "metadata": {},
   "outputs": [],
   "source": [
    "isotopes = np.array(pt_surf.se.isotopes)"
   ]
  },
  {
   "cell_type": "code",
   "execution_count": null,
   "metadata": {},
   "outputs": [],
   "source": [
    "Xs.shape"
   ]
  },
  {
   "cell_type": "code",
   "execution_count": null,
   "metadata": {},
   "outputs": [],
   "source": [
    "model_number = np.int64(model_number)"
   ]
  },
  {
   "cell_type": "code",
   "execution_count": null,
   "metadata": {},
   "outputs": [],
   "source": [
    "model_number"
   ]
  },
  {
   "cell_type": "code",
   "execution_count": null,
   "metadata": {
    "jupyter": {
     "outputs_hidden": true
    }
   },
   "outputs": [],
   "source": [
    "for iso in isotopes:\n",
    "    print(iso)"
   ]
  },
  {
   "cell_type": "code",
   "execution_count": null,
   "metadata": {},
   "outputs": [],
   "source": [
    "sys.path.append(\"../arya\")\n",
    "import arya"
   ]
  },
  {
   "cell_type": "code",
   "execution_count": null,
   "metadata": {},
   "outputs": [],
   "source": [
    "#ifig=124;close(ifig);figure(ifig)\n",
    "\n",
    "\n",
    "\n",
    "def plot_isos(isos, relative=True):\n",
    "    for (i, ele) in enumerate(isos):\n",
    "        ii = np.where(isotopes == ele)[0]\n",
    "        if len(ii) == 1:\n",
    "            i = ii[0]\n",
    "            X = Xs[:, i]\n",
    "            if relative:\n",
    "                log_X0 = np.log10(X[0])\n",
    "            else:\n",
    "                log_X0=0\n",
    "            \n",
    "            y = np.log10(X) - log_X0\n",
    "            plt.plot(model_number, y, label=ele,\n",
    "                     ls  = [\"-\", \"--\", \":\", \"-.\"][i % 4]\n",
    "                    )\n",
    "        else:\n",
    "            print(\"element not found\", ele)\n",
    "\n",
    "    plt.legend(bbox_to_anchor=(1, 1), loc=\"upper left\")\n",
    "    plt.xlabel(\"model number\")\n",
    "    plt.ylabel(\"log X / Xi\")\n",
    "    plt.show()"
   ]
  },
  {
   "cell_type": "code",
   "execution_count": null,
   "metadata": {},
   "outputs": [],
   "source": [
    "isos = [\"C-12\", \"C-13\", \"O-16\", \"Pb-206\"]\n",
    "plot_isos(isos)"
   ]
  },
  {
   "cell_type": "code",
   "execution_count": null,
   "metadata": {},
   "outputs": [],
   "source": [
    "isos = [\"Al-27\", \"P-31\", \"K-39\"]\n",
    "plot_isos(isos)"
   ]
  },
  {
   "cell_type": "code",
   "execution_count": null,
   "metadata": {},
   "outputs": [],
   "source": [
    "isos = [\"S-32\", \"Cl-35\", \"Ar-36\", \"Ca-40\", \"V-51\", \"Fe-56\"]\n",
    "plot_isos(isos)\n"
   ]
  },
  {
   "cell_type": "code",
   "execution_count": null,
   "metadata": {},
   "outputs": [],
   "source": [
    "10**-0.003"
   ]
  },
  {
   "cell_type": "code",
   "execution_count": null,
   "metadata": {},
   "outputs": [],
   "source": [
    "isos = [\"Co-59\", \"Zn-64\"]\n",
    "plot_isos(isos)\n"
   ]
  },
  {
   "cell_type": "code",
   "execution_count": null,
   "metadata": {},
   "outputs": [],
   "source": [
    "len(Xs[0])"
   ]
  },
  {
   "cell_type": "code",
   "execution_count": null,
   "metadata": {},
   "outputs": [],
   "source": [
    "Xs[0] == Xs[300]"
   ]
  },
  {
   "cell_type": "code",
   "execution_count": null,
   "metadata": {},
   "outputs": [],
   "source": []
  }
 ],
 "metadata": {
  "kernelspec": {
   "display_name": "Python 3",
   "language": "python",
   "name": "python3"
  },
  "language_info": {
   "codemirror_mode": {
    "name": "ipython",
    "version": 3
   },
   "file_extension": ".py",
   "mimetype": "text/x-python",
   "name": "python",
   "nbconvert_exporter": "python",
   "pygments_lexer": "ipython3",
   "version": "3.6.9"
  }
 },
 "nbformat": 4,
 "nbformat_minor": 4
}
